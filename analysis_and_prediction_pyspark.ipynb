{
 "cells": [
  {
   "cell_type": "code",
   "execution_count": 1,
   "id": "00f41645-7cd9-42df-b97a-8e33155684c8",
   "metadata": {},
   "outputs": [],
   "source": [
    "from pyspark.sql import SparkSession\n",
    "from pyspark.sql.functions import *\n",
    "\n",
    "spark = SparkSession.builder \\\n",
    "    .appName(\"PySpark Docker Expedia Hotel Recommendations\") \\\n",
    "    .getOrCreate()"
   ]
  },
  {
   "cell_type": "code",
   "execution_count": 2,
   "id": "fb01bb0f-0cd7-4b18-937c-3d76eb3262c0",
   "metadata": {},
   "outputs": [
    {
     "name": "stdout",
     "output_type": "stream",
     "text": [
      "Número de linhas no DataFrame: 37670293\n"
     ]
    }
   ],
   "source": [
    "# Objetivo: Prever qual grupo de hotel (hotel cluster) um usuário vai reservar,\n",
    "# com base nos eventos de busca e atributos do usuário registrados nos logs da Expedia.\n",
    "\n",
    "df = spark.read.csv(\"./train.csv\", header=True, inferSchema=True)\n",
    "\n",
    "# df.show()\n",
    "\n",
    "num_linhas = df.count()\n",
    "print(f\"Número de linhas no DataFrame: {num_linhas}\")"
   ]
  },
  {
   "cell_type": "code",
   "execution_count": 3,
   "id": "c6ccf842-666e-4f07-bd72-15ed7bf40a66",
   "metadata": {},
   "outputs": [
    {
     "name": "stdout",
     "output_type": "stream",
     "text": [
      "root\n",
      " |-- date_time: timestamp (nullable = true)\n",
      " |-- site_name: integer (nullable = true)\n",
      " |-- posa_continent: integer (nullable = true)\n",
      " |-- user_location_country: integer (nullable = true)\n",
      " |-- user_location_region: integer (nullable = true)\n",
      " |-- user_location_city: integer (nullable = true)\n",
      " |-- orig_destination_distance: double (nullable = true)\n",
      " |-- user_id: integer (nullable = true)\n",
      " |-- is_mobile: integer (nullable = true)\n",
      " |-- is_package: integer (nullable = true)\n",
      " |-- channel: integer (nullable = true)\n",
      " |-- srch_ci: date (nullable = true)\n",
      " |-- srch_co: date (nullable = true)\n",
      " |-- srch_adults_cnt: integer (nullable = true)\n",
      " |-- srch_children_cnt: integer (nullable = true)\n",
      " |-- srch_rm_cnt: integer (nullable = true)\n",
      " |-- srch_destination_id: integer (nullable = true)\n",
      " |-- srch_destination_type_id: integer (nullable = true)\n",
      " |-- is_booking: integer (nullable = true)\n",
      " |-- cnt: integer (nullable = true)\n",
      " |-- hotel_continent: integer (nullable = true)\n",
      " |-- hotel_country: integer (nullable = true)\n",
      " |-- hotel_market: integer (nullable = true)\n",
      " |-- hotel_cluster: integer (nullable = true)\n",
      "\n"
     ]
    }
   ],
   "source": [
    "# Entender a estrutura do dataset\n",
    "df.printSchema()"
   ]
  },
  {
   "cell_type": "code",
   "execution_count": 4,
   "id": "78e1e557-916d-4e27-805f-1dbbd7dd4b55",
   "metadata": {},
   "outputs": [],
   "source": [
    "# Criar temp view para análises SQL\n",
    "df.createOrReplaceTempView(\"expedia\")"
   ]
  },
  {
   "cell_type": "code",
   "execution_count": 5,
   "id": "b3168066-e2e9-4f40-ab4f-bc8eb4b9b0ac",
   "metadata": {},
   "outputs": [],
   "source": [
    "# Criar temp view para dar suporte as análises com o valor total de reservas\n",
    "df_reservas_totais = spark.sql(\"\"\"\n",
    "    SELECT COUNT(*) AS total\n",
    "    FROM expedia\n",
    "    WHERE is_booking = 1\n",
    "\"\"\")\n",
    "\n",
    "df_reservas_totais.createOrReplaceTempView(\"total_reservations\")"
   ]
  },
  {
   "cell_type": "code",
   "execution_count": 6,
   "id": "44df7d7c-9562-4b10-af88-4ad06d929c0c",
   "metadata": {},
   "outputs": [
    {
     "name": "stdout",
     "output_type": "stream",
     "text": [
      "+---------------+-------------+------------+------------------+-------------------+\n",
      "|hotel_continent|hotel_country|hotel_market|total_reservations|percentage_of_total|\n",
      "+---------------+-------------+------------+------------------+-------------------+\n",
      "|              2|           50|         628|            130374|               4.34|\n",
      "|              2|           50|         675|             96262|               3.21|\n",
      "|              2|           50|         365|             68722|               2.29|\n",
      "|              6|           70|          19|             56677|               1.89|\n",
      "|              2|           50|        1230|             51112|                1.7|\n",
      "|              2|           50|         637|             45395|               1.51|\n",
      "|              2|           50|         701|             44361|               1.48|\n",
      "|              2|           50|         682|             44022|               1.47|\n",
      "|              2|           50|         191|             38506|               1.28|\n",
      "|              6|          204|          27|             35398|               1.18|\n",
      "|              2|           50|         368|             33525|               1.12|\n",
      "|              2|           50|         663|             29958|                1.0|\n",
      "|              2|          198|         397|             27973|               0.93|\n",
      "|              2|           50|         366|             27637|               0.92|\n",
      "|              6|          105|          29|             26496|               0.88|\n",
      "|              3|          182|          46|             25705|               0.86|\n",
      "|              2|          198|         399|             24795|               0.83|\n",
      "|              3|          171|          61|             24343|               0.81|\n",
      "|              2|           50|         690|             23802|               0.79|\n",
      "|              4|            8|         110|             22832|               0.76|\n",
      "+---------------+-------------+------------+------------------+-------------------+\n",
      "only showing top 20 rows\n",
      "\n"
     ]
    }
   ],
   "source": [
    "# Distribuição das reservas por continente/país/região - qual tem maior concentração de reservas?\n",
    "# Granularidade alta\n",
    "\n",
    "spark.sql(\"\"\"\n",
    "    WITH country_reservations AS (\n",
    "        SELECT hotel_continent, hotel_country, hotel_market, COUNT(*) AS total_reservations\n",
    "        FROM expedia\n",
    "        WHERE is_booking = 1\n",
    "        GROUP BY 1,2,3\n",
    "    )\n",
    "    SELECT cr.hotel_continent,\n",
    "           cr.hotel_country, \n",
    "           cr.hotel_market,\n",
    "           cr.total_reservations, \n",
    "           round((cr.total_reservations / tr.total) * 100, 2) AS percentage_of_total\n",
    "    FROM country_reservations cr\n",
    "        CROSS JOIN total_reservations tr\n",
    "    ORDER BY percentage_of_total DESC\n",
    "\"\"\").show()"
   ]
  },
  {
   "cell_type": "code",
   "execution_count": 7,
   "id": "62ff7b95-bd34-4e5e-8cdd-524137890b3f",
   "metadata": {},
   "outputs": [
    {
     "name": "stdout",
     "output_type": "stream",
     "text": [
      "+---------------+-------------+------------------+-------------------+\n",
      "|hotel_continent|hotel_country|total_reservations|percentage_of_total|\n",
      "+---------------+-------------+------------------+-------------------+\n",
      "|              2|           50|           1616055|              53.86|\n",
      "|              2|          198|            197228|               6.57|\n",
      "|              6|           70|            102651|               3.42|\n",
      "|              6|          105|             93326|               3.11|\n",
      "|              4|            8|             80990|                2.7|\n",
      "|              6|          204|             71709|               2.39|\n",
      "|              6|           77|             60720|               2.02|\n",
      "|              6|          144|             60504|               2.02|\n",
      "|              3|          106|             45909|               1.53|\n",
      "|              3|          182|             44362|               1.48|\n",
      "|              0|           63|             34712|               1.16|\n",
      "|              3|           99|             33525|               1.12|\n",
      "|              3|          171|             24343|               0.81|\n",
      "|              3|           48|             22736|               0.76|\n",
      "|              6|           68|             22370|               0.75|\n",
      "|              3|          126|             19857|               0.66|\n",
      "|              3|          168|             17289|               0.58|\n",
      "|              6|           22|             16353|               0.54|\n",
      "|              3|          104|             15801|               0.53|\n",
      "|              4|          163|             15001|                0.5|\n",
      "+---------------+-------------+------------------+-------------------+\n",
      "only showing top 20 rows\n",
      "\n"
     ]
    }
   ],
   "source": [
    "# Distribuição das reservas por continente/país - qual tem maior concentração de reservas?\n",
    "# Granularidade baixa\n",
    "\n",
    "spark.sql(\"\"\"\n",
    "    WITH country_reservations AS (\n",
    "        SELECT hotel_continent, hotel_country, COUNT(*) AS total_reservations\n",
    "        FROM expedia\n",
    "        WHERE is_booking = 1\n",
    "        GROUP BY 1,2\n",
    "    )\n",
    "    SELECT cr.hotel_continent,\n",
    "           cr.hotel_country, \n",
    "           cr.total_reservations, \n",
    "           round((cr.total_reservations / tr.total) * 100, 2) AS percentage_of_total\n",
    "    FROM country_reservations cr\n",
    "        CROSS JOIN total_reservations tr\n",
    "    ORDER BY percentage_of_total DESC\n",
    "\"\"\").show()"
   ]
  },
  {
   "cell_type": "code",
   "execution_count": 8,
   "id": "bf6aa580-0e77-480f-8c16-0cfd9ae49870",
   "metadata": {},
   "outputs": [
    {
     "name": "stdout",
     "output_type": "stream",
     "text": [
      "+---------------------+--------------------+------------------+-------------------+\n",
      "|user_location_country|user_location_region|total_reservations|percentage_of_total|\n",
      "+---------------------+--------------------+------------------+-------------------+\n",
      "|                   66|                 174|            337487|              11.25|\n",
      "|                  205|                 354|            141188|               4.71|\n",
      "|                   66|                 348|            130891|               4.36|\n",
      "|                   66|                 442|            126091|                4.2|\n",
      "|                   66|                 220|            110479|               3.68|\n",
      "|                   66|                 462|             78642|               2.62|\n",
      "|                  205|                 155|             70260|               2.34|\n",
      "|                    3|                  50|             66622|               2.22|\n",
      "|                  205|                 135|             66269|               2.21|\n",
      "|                   66|                 258|             65900|                2.2|\n",
      "|                   66|                 337|             54318|               1.81|\n",
      "|                   66|                 363|             50479|               1.68|\n",
      "|                   66|                 311|             50126|               1.67|\n",
      "|                   66|                 448|             45257|               1.51|\n",
      "|                   66|                 184|             42561|               1.42|\n",
      "|                   66|                 226|             42355|               1.41|\n",
      "|                   66|                 351|             37628|               1.25|\n",
      "|                  205|                 385|             37310|               1.24|\n",
      "|                   66|                 153|             35578|               1.19|\n",
      "|                   66|                 331|             35801|               1.19|\n",
      "+---------------------+--------------------+------------------+-------------------+\n",
      "only showing top 20 rows\n",
      "\n"
     ]
    }
   ],
   "source": [
    "# Distribuição das reservas por país/região - qual localização do usuário tem a maior índice de reservas?\n",
    "# Granularidade alta\n",
    "\n",
    "# Cria o DataFrame com o resultado da consulta\n",
    "spark.sql(\"\"\"\n",
    "    WITH country_reservations AS (\n",
    "        SELECT user_location_country, user_location_region, COUNT(*) AS total_reservations\n",
    "        FROM expedia\n",
    "        WHERE is_booking = 1\n",
    "        GROUP BY 1,2\n",
    "    )\n",
    "    SELECT cr.user_location_country,\n",
    "           cr.user_location_region,\n",
    "           cr.total_reservations, \n",
    "           round((cr.total_reservations / tr.total) * 100, 2) AS percentage_of_total\n",
    "    FROM country_reservations cr\n",
    "        CROSS JOIN total_reservations tr\n",
    "    ORDER BY percentage_of_total DESC\n",
    "\"\"\").show()"
   ]
  },
  {
   "cell_type": "code",
   "execution_count": 9,
   "id": "48fb7ab8-d757-49da-9b90-350eb75db569",
   "metadata": {},
   "outputs": [
    {
     "name": "stdout",
     "output_type": "stream",
     "text": [
      "+---------------------+------------------+-------------------+\n",
      "|user_location_country|total_reservations|percentage_of_total|\n",
      "+---------------------+------------------+-------------------+\n",
      "|                   66|           1675105|              55.82|\n",
      "|                  205|            345625|              11.52|\n",
      "|                   69|            158944|                5.3|\n",
      "|                    3|            138103|                4.6|\n",
      "|                   46|             67071|               2.24|\n",
      "|                   77|             62543|               2.08|\n",
      "|                    1|             52266|               1.74|\n",
      "|                  215|             45526|               1.52|\n",
      "|                  133|             30537|               1.02|\n",
      "|                   23|             21676|               0.72|\n",
      "|                  195|             19730|               0.66|\n",
      "|                   68|             19939|               0.66|\n",
      "|                  231|             18516|               0.62|\n",
      "|                  119|             15970|               0.53|\n",
      "|                  182|             14215|               0.47|\n",
      "|                    0|             13882|               0.46|\n",
      "|                  194|             13124|               0.44|\n",
      "|                   55|             13084|               0.44|\n",
      "|                   70|             12752|               0.42|\n",
      "|                   80|             11337|               0.38|\n",
      "+---------------------+------------------+-------------------+\n",
      "only showing top 20 rows\n",
      "\n"
     ]
    }
   ],
   "source": [
    "# Distribuição das reservas por país/região - qual localização do usuário tem a maior índice de reservas?\n",
    "# Granularidade baixa\n",
    "\n",
    "# Cria o DataFrame com o resultado da consulta\n",
    "spark.sql(\"\"\"\n",
    "    WITH country_reservations AS (\n",
    "        SELECT user_location_country, COUNT(*) AS total_reservations\n",
    "        FROM expedia\n",
    "        WHERE is_booking = 1\n",
    "        GROUP BY 1\n",
    "    )\n",
    "    SELECT cr.user_location_country,\n",
    "           cr.total_reservations, \n",
    "           round((cr.total_reservations / tr.total) * 100, 2) AS percentage_of_total\n",
    "    FROM country_reservations cr\n",
    "        CROSS JOIN total_reservations tr\n",
    "    ORDER BY percentage_of_total DESC\n",
    "\"\"\").show()"
   ]
  },
  {
   "cell_type": "code",
   "execution_count": 10,
   "id": "a02cabac-c8ff-446b-8cb4-74e55002458f",
   "metadata": {},
   "outputs": [
    {
     "name": "stdout",
     "output_type": "stream",
     "text": [
      "+---------------------+--------------------+-------------+------------+------------------+-------------------+\n",
      "|user_location_country|user_location_region|hotel_country|hotel_market|total_reservations|percentage_of_total|\n",
      "+---------------------+--------------------+-------------+------------+------------------+-------------------+\n",
      "|                   66|                 174|           50|         628|             30708|               1.02|\n",
      "|                   66|                 174|           50|         365|             23193|               0.77|\n",
      "|                   66|                 174|           50|        1230|             16042|               0.53|\n",
      "|                   66|                 174|           50|         368|             13828|               0.46|\n",
      "|                   66|                 174|           50|         366|             11971|                0.4|\n",
      "|                  205|                 354|          198|         397|             11693|               0.39|\n",
      "|                   66|                 220|           50|         682|              9711|               0.32|\n",
      "|                   66|                 174|           50|         675|              9034|                0.3|\n",
      "|                   66|                 348|           50|         675|              9102|                0.3|\n",
      "|                  205|                 155|          198|         399|              6713|               0.22|\n",
      "|                   66|                 442|           50|         409|              6432|               0.21|\n",
      "|                   66|                 174|           50|        1241|              6363|               0.21|\n",
      "|                   66|                 462|           50|         628|              5937|                0.2|\n",
      "|                   66|                 258|           50|         637|              5954|                0.2|\n",
      "|                   66|                 442|           50|         412|              6021|                0.2|\n",
      "|                   66|                 442|           50|         628|              5635|               0.19|\n",
      "|                   66|                 442|           50|         406|              5680|               0.19|\n",
      "|                   66|                 220|           50|         701|              5641|               0.19|\n",
      "|                   66|                 462|           50|         663|              5838|               0.19|\n",
      "|                  205|                 354|           50|         628|              5784|               0.19|\n",
      "+---------------------+--------------------+-------------+------------+------------------+-------------------+\n",
      "only showing top 20 rows\n",
      "\n"
     ]
    }
   ],
   "source": [
    "# Comparação entre a localização do usuário e a do hotel\n",
    "# Os usuários preferem reservar hotéis no mesmo país/região ou se há uma tendência de viajar para outros locais?\n",
    "\n",
    "spark.sql(\"\"\"\n",
    "    WITH country_reservations AS (\n",
    "        SELECT user_location_country, user_location_region, hotel_country, hotel_market, COUNT(*) as total_reservations\n",
    "        FROM expedia\n",
    "        WHERE is_booking = 1\n",
    "        GROUP BY 1,2,3,4\n",
    "    )\n",
    "    SELECT cr.user_location_country,\n",
    "           cr.user_location_region, \n",
    "           cr.hotel_country,\n",
    "           cr.hotel_market,\n",
    "           cr.total_reservations, \n",
    "           round((cr.total_reservations / tr.total) * 100, 2) AS percentage_of_total\n",
    "    FROM country_reservations cr\n",
    "        CROSS JOIN total_reservations tr\n",
    "    ORDER BY percentage_of_total DESC    \n",
    "\"\"\").show()"
   ]
  },
  {
   "cell_type": "code",
   "execution_count": 11,
   "id": "95f17d58-75f9-48f6-afa8-e07d0e41f51a",
   "metadata": {},
   "outputs": [
    {
     "name": "stdout",
     "output_type": "stream",
     "text": [
      "+---------------------+-------------+------------------+-------------------+\n",
      "|user_location_country|hotel_country|total_reservations|percentage_of_total|\n",
      "+---------------------+-------------+------------------+-------------------+\n",
      "|                   66|           50|           1294233|              43.13|\n",
      "|                  205|          198|            141941|               4.73|\n",
      "|                  205|           50|            122762|               4.09|\n",
      "|                   66|            8|             51261|               1.71|\n",
      "|                   66|          198|             41416|               1.38|\n",
      "|                   69|           70|             38191|               1.27|\n",
      "|                   69|           50|             27256|               0.91|\n",
      "|                   66|          105|             26761|               0.89|\n",
      "|                    3|           50|             25128|               0.84|\n",
      "|                   66|           70|             23580|               0.79|\n",
      "|                   66|          204|             18826|               0.63|\n",
      "|                  215|           50|             18410|               0.61|\n",
      "|                   77|           63|             16440|               0.55|\n",
      "|                  215|            8|             16444|               0.55|\n",
      "|                    1|          105|             16218|               0.54|\n",
      "|                    3|          106|             14853|               0.49|\n",
      "|                   66|           77|             14845|               0.49|\n",
      "|                   46|          144|             14267|               0.48|\n",
      "|                   46|           50|             14239|               0.47|\n",
      "|                   66|          144|             12160|               0.41|\n",
      "+---------------------+-------------+------------------+-------------------+\n",
      "only showing top 20 rows\n",
      "\n"
     ]
    }
   ],
   "source": [
    "# Comparação entre a localização do usuário e a do hotel\n",
    "# Os usuários preferem reservar hotéis no mesmo país ou se há uma tendência de viajar para outros locais?\n",
    "# Granularidade baixa\n",
    "\n",
    "spark.sql(\"\"\"\n",
    "    WITH country_reservations AS (\n",
    "        SELECT user_location_country, hotel_country, COUNT(*) as total_reservations\n",
    "        FROM expedia\n",
    "        WHERE is_booking = 1\n",
    "        GROUP BY 1,2\n",
    "    )\n",
    "    SELECT cr.user_location_country,\n",
    "           cr.hotel_country,\n",
    "           cr.total_reservations, \n",
    "           round((cr.total_reservations / tr.total) * 100, 2) AS percentage_of_total\n",
    "    FROM country_reservations cr\n",
    "        CROSS JOIN total_reservations tr\n",
    "    ORDER BY percentage_of_total DESC    \n",
    "\"\"\").show()"
   ]
  },
  {
   "cell_type": "code",
   "execution_count": 12,
   "id": "0f5e300f-d0eb-486a-bc5c-4fac64ff6a52",
   "metadata": {},
   "outputs": [],
   "source": [
    "# Análise temporal\n",
    "\n",
    "# Criar colunas úteis de datas \n",
    "df = df.withColumn(\"search_year\", year(\"date_time\")) \\\n",
    "       .withColumn(\"search_month\", month(\"date_time\")) \\\n",
    "       .withColumn(\"search_week\", weekofyear(\"date_time\")) \\\n",
    "       .withColumn(\"day_of_week_ci\", dayofweek(\"srch_ci\"))\n",
    "\n",
    "# Atualizar a temp view com as colunas novas\n",
    "df.createOrReplaceTempView(\"expedia\")"
   ]
  },
  {
   "cell_type": "code",
   "execution_count": 13,
   "id": "38c1b7da-f9e7-470f-b2cf-b8a7de822106",
   "metadata": {},
   "outputs": [
    {
     "name": "stdout",
     "output_type": "stream",
     "text": [
      "+-------------------+\n",
      "|registros_invalidos|\n",
      "+-------------------+\n",
      "|                798|\n",
      "+-------------------+\n",
      "\n"
     ]
    }
   ],
   "source": [
    "# Existem reservas com problemas de data (check-in > check-out)?\n",
    "spark.sql(\"\"\"\n",
    "    SELECT COUNT(*) as registros_invalidos\n",
    "    FROM expedia\n",
    "    WHERE srch_ci > srch_co\n",
    "\"\"\").show()"
   ]
  },
  {
   "cell_type": "code",
   "execution_count": 14,
   "id": "6055b95f-a89d-49eb-9937-9c7fb90b594a",
   "metadata": {},
   "outputs": [],
   "source": [
    "# De acordo com a análise existem registros inválidos, então é preciso removê-los\n",
    "\n",
    "# Filtrar apenas os registros válidos (check-in <= check-out)\n",
    "df = df.filter(col(\"srch_ci\") <= col(\"srch_co\"))\n",
    "\n",
    "# Criar coluna para cálculo de duração de estadia\n",
    "df = df.withColumn(\"stay_duration\", datediff(\"srch_co\", \"srch_ci\"))\n",
    "\n",
    "# Atualizar a temp view com as colunas novas\n",
    "df.createOrReplaceTempView(\"expedia\")"
   ]
  },
  {
   "cell_type": "code",
   "execution_count": 15,
   "id": "a533610b-6a2f-497c-9271-ba5f8aa60fc0",
   "metadata": {},
   "outputs": [
    {
     "name": "stdout",
     "output_type": "stream",
     "text": [
      "+-----------+------------+--------------+\n",
      "|search_year|search_month|total_searches|\n",
      "+-----------+------------+--------------+\n",
      "|       2014|          12|       2926235|\n",
      "|       2014|           7|       2796314|\n",
      "|       2014|           8|       2748207|\n",
      "|       2014|           9|       2741193|\n",
      "|       2014|          10|       2732761|\n",
      "|       2014|          11|       2620666|\n",
      "|       2014|           6|       2181086|\n",
      "|       2014|           5|       1877741|\n",
      "|       2014|           4|       1768935|\n",
      "|       2014|           3|       1740751|\n",
      "|       2014|           1|       1180808|\n",
      "|       2014|           2|       1156106|\n",
      "|       2013|           7|       1091303|\n",
      "|       2013|           8|       1022005|\n",
      "|       2013|           6|       1004482|\n",
      "|       2013|           3|        996982|\n",
      "|       2013|          10|        970269|\n",
      "|       2013|           5|        958031|\n",
      "|       2013|           9|        956577|\n",
      "|       2013|           4|        938713|\n",
      "+-----------+------------+--------------+\n",
      "only showing top 20 rows\n",
      "\n"
     ]
    }
   ],
   "source": [
    "# Verificar volume de buscas por ano e mês\n",
    "spark.sql(\"\"\"\n",
    "    SELECT search_year, search_month, COUNT(*) as total_searches\n",
    "    FROM expedia\n",
    "    GROUP BY 1, 2\n",
    "    ORDER BY total_searches desc\n",
    "\"\"\").show()"
   ]
  },
  {
   "cell_type": "code",
   "execution_count": 16,
   "id": "3b78906d-2e2d-413a-9ffe-8ee9d59f8172",
   "metadata": {},
   "outputs": [
    {
     "name": "stdout",
     "output_type": "stream",
     "text": [
      "+-----------+--------------+--------------+\n",
      "|search_week|day_of_week_ci|total_searches|\n",
      "+-----------+--------------+--------------+\n",
      "|         31|             6|        179609|\n",
      "|         37|             6|        179051|\n",
      "|         38|             6|        176652|\n",
      "|         32|             6|        176248|\n",
      "|         40|             6|        175996|\n",
      "|         36|             6|        175235|\n",
      "|         30|             6|        175135|\n",
      "|         33|             6|        175018|\n",
      "|         41|             6|        174507|\n",
      "|         39|             6|        172546|\n",
      "|         29|             6|        172297|\n",
      "|         34|             6|        171093|\n",
      "|         28|             6|        169400|\n",
      "|         35|             6|        168623|\n",
      "|         43|             6|        166336|\n",
      "|         49|             6|        165105|\n",
      "|         42|             6|        163454|\n",
      "|         45|             6|        161097|\n",
      "|         44|             6|        158028|\n",
      "|         46|             6|        155354|\n",
      "+-----------+--------------+--------------+\n",
      "only showing top 20 rows\n",
      "\n"
     ]
    }
   ],
   "source": [
    "# Verificar volume de buscas por semana e dia de checkin,\n",
    "spark.sql(\"\"\"\n",
    "    SELECT search_week, day_of_week_ci, COUNT(*) as total_searches\n",
    "    FROM expedia\n",
    "    GROUP BY 1, 2\n",
    "    ORDER BY total_searches desc\n",
    "\"\"\").show()"
   ]
  },
  {
   "cell_type": "code",
   "execution_count": 17,
   "id": "f8c3ec7f-392a-4d8d-b882-0e0c6b7b608b",
   "metadata": {},
   "outputs": [
    {
     "name": "stdout",
     "output_type": "stream",
     "text": [
      "+--------------+--------------+\n",
      "|day_of_week_ci|total_searches|\n",
      "+--------------+--------------+\n",
      "|             6|       7380262|\n",
      "|             7|       6311519|\n",
      "|             5|       5733717|\n",
      "|             4|       4873614|\n",
      "|             1|       4646788|\n",
      "|             2|       4495046|\n",
      "|             3|       4181461|\n",
      "+--------------+--------------+\n",
      "\n"
     ]
    }
   ],
   "source": [
    "# Verificar volume de buscas por dia de checkin,\n",
    "spark.sql(\"\"\"\n",
    "    SELECT day_of_week_ci, COUNT(*) as total_searches\n",
    "    FROM expedia\n",
    "    GROUP BY 1\n",
    "    ORDER BY total_searches desc\n",
    "\"\"\").show()"
   ]
  },
  {
   "cell_type": "code",
   "execution_count": 18,
   "id": "b1d614d6-2d04-4d82-94d9-17c372cf313b",
   "metadata": {},
   "outputs": [],
   "source": [
    "# Análise de perfil e comportamental\n",
    "\n",
    "# Criando a coluna `is_solo_trip` para verificar viagens sozinhas - isso pode indicar se é a trabalho, passeio de família...\n",
    "df = df.withColumn('is_solo_trip', when((col('srch_adults_cnt') == 1) & (col('srch_children_cnt') == 0), 1).otherwise(0))\n",
    "\n",
    "# Atualizar a temp view com as colunas novas\n",
    "df.createOrReplaceTempView(\"expedia\")"
   ]
  },
  {
   "cell_type": "code",
   "execution_count": 19,
   "id": "1dd3654a-9d3f-4b06-b5b7-f6bde0cc5e3d",
   "metadata": {},
   "outputs": [
    {
     "name": "stdout",
     "output_type": "stream",
     "text": [
      "+----------------+----------+------------+---------+\n",
      "|avg_is_solo_trip|avg_adults|avg_children|avg_rooms|\n",
      "+----------------+----------+------------+---------+\n",
      "|           28.91|    187.23|       27.67|   112.96|\n",
      "+----------------+----------+------------+---------+\n",
      "\n"
     ]
    }
   ],
   "source": [
    "# Identificar o tipo de cliente (viagem em grupo, casal, sozinho...) com média percentual\n",
    "\n",
    "spark.sql(\"\"\"\n",
    "    SELECT \n",
    "        ROUND(AVG(is_solo_trip)* 100,2) AS avg_is_solo_trip,\n",
    "        ROUND(AVG(srch_adults_cnt)* 100,2) AS avg_adults,\n",
    "        ROUND(AVG(srch_children_cnt)* 100,2) AS avg_children,\n",
    "        ROUND(AVG(srch_rm_cnt)* 100,2) AS avg_rooms\n",
    "    FROM expedia\n",
    "    WHERE is_booking = 1\n",
    "\"\"\").show()"
   ]
  },
  {
   "cell_type": "code",
   "execution_count": 20,
   "id": "58be7274-d5b5-41b7-affb-35c5e953c52e",
   "metadata": {},
   "outputs": [
    {
     "name": "stdout",
     "output_type": "stream",
     "text": [
      "+-------+------------+\n",
      "|user_id|num_reservas|\n",
      "+-------+------------+\n",
      "| 911486|         100|\n",
      "| 235912|         100|\n",
      "| 602738|         100|\n",
      "|1137579|         100|\n",
      "|1049940|         100|\n",
      "| 966474|         100|\n",
      "| 625627|         100|\n",
      "| 913337|         100|\n",
      "|1017892|         100|\n",
      "|1090993|          99|\n",
      "| 944701|          99|\n",
      "| 216089|          99|\n",
      "|1009736|          99|\n",
      "| 770199|          99|\n",
      "|1097534|          99|\n",
      "|  40415|          99|\n",
      "| 859246|          99|\n",
      "|  20929|          99|\n",
      "| 356149|          99|\n",
      "| 494038|          98|\n",
      "+-------+------------+\n",
      "only showing top 20 rows\n",
      "\n"
     ]
    }
   ],
   "source": [
    "# Identificar usuários frequentes vs. eventuais.\n",
    "\n",
    "spark.sql(\"\"\"\n",
    "    SELECT user_id, COUNT(*) AS num_reservas\n",
    "    FROM expedia\n",
    "    WHERE is_booking = 1\n",
    "    GROUP BY user_id\n",
    "    ORDER BY num_reservas DESC\n",
    "\"\"\").show()"
   ]
  },
  {
   "cell_type": "code",
   "execution_count": 21,
   "id": "572a8bd5-1571-4941-91f7-306ef76874fe",
   "metadata": {},
   "outputs": [],
   "source": [
    "# Análise de reservas com base em categoria\n",
    "# Família com crianças: Se houver 1 adulto e pelo menos 1 criança\n",
    "# Família sem crianças: Se houver mais de 1 adulto e nenhuma criança\n",
    "# Solo trip: Se houver 1 adulto e nenhuma criança\n",
    "\n",
    "df = df.withColumn(\"trip_category\", \n",
    "                   when((col(\"srch_adults_cnt\") == 1) & (col(\"srch_children_cnt\") > 0), \"Family with Children\")\n",
    "                    .when((col(\"srch_adults_cnt\") > 1) & (col(\"srch_children_cnt\") == 0), \"Family without Children\")\n",
    "                    .otherwise(\"Solo Trip\"))\n",
    "\n",
    "# Atualizar a temp view com as colunas novas\n",
    "df.createOrReplaceTempView(\"expedia\")"
   ]
  },
  {
   "cell_type": "code",
   "execution_count": 22,
   "id": "c0d43a6f-23cf-44d2-81e3-8f01b60395a4",
   "metadata": {},
   "outputs": [
    {
     "name": "stdout",
     "output_type": "stream",
     "text": [
      "+--------------------+------------------+-------------------+\n",
      "|       trip_category|total_reservations|percentage_of_total|\n",
      "+--------------------+------------------+-------------------+\n",
      "|Family without Ch...|           1563399|               52.1|\n",
      "|           Solo Trip|           1316243|              43.86|\n",
      "|Family with Children|            121048|               4.03|\n",
      "+--------------------+------------------+-------------------+\n",
      "\n"
     ]
    }
   ],
   "source": [
    "# Contabilizar as Reservas por Categoria de Viagem\n",
    "\n",
    "spark.sql(\"\"\"\n",
    "    WITH trip_reservations AS (\n",
    "        SELECT trip_category, COUNT(*) as total_reservations\n",
    "        FROM expedia\n",
    "        WHERE is_booking = 1\n",
    "        GROUP BY 1\n",
    "    )\n",
    "    SELECT cr.trip_category,\n",
    "           cr.total_reservations, \n",
    "           round((cr.total_reservations / tr.total) * 100, 2) AS percentage_of_total\n",
    "    FROM trip_reservations cr\n",
    "        CROSS JOIN total_reservations tr\n",
    "    ORDER BY percentage_of_total DESC    \n",
    "\"\"\").show()"
   ]
  },
  {
   "cell_type": "code",
   "execution_count": 23,
   "id": "7b32f8fb-1ce2-4808-b3d3-54fb6818399b",
   "metadata": {},
   "outputs": [
    {
     "name": "stdout",
     "output_type": "stream",
     "text": [
      "+------------+-------+------------------+\n",
      "|is_solo_trip|channel|total_reservations|\n",
      "+------------+-------+------------------+\n",
      "|           0|      9|           1209474|\n",
      "|           1|      9|            559309|\n",
      "|           0|      0|            251896|\n",
      "|           0|      1|            188330|\n",
      "|           0|      5|            168816|\n",
      "|           0|      2|            137945|\n",
      "|           1|      0|             89461|\n",
      "|           0|      3|             80511|\n",
      "|           0|      4|             77661|\n",
      "|           1|      1|             73924|\n",
      "|           1|      5|             49808|\n",
      "|           1|      2|             41241|\n",
      "|           1|      4|             32800|\n",
      "|           1|      3|             14414|\n",
      "|           0|      7|              9392|\n",
      "|           0|      8|              6598|\n",
      "|           1|      7|              3071|\n",
      "|           1|      8|              2717|\n",
      "|           0|      6|              2118|\n",
      "|           1|      6|               768|\n",
      "+------------+-------+------------------+\n",
      "only showing top 20 rows\n",
      "\n"
     ]
    }
   ],
   "source": [
    "# Análise se viaja sozinho ou não por canal de venda\n",
    "\n",
    "spark.sql(\"\"\"\n",
    "    SELECT is_solo_trip, channel, COUNT(*) AS total_reservations\n",
    "    FROM expedia\n",
    "    WHERE is_booking = 1\n",
    "    GROUP BY 1,2\n",
    "    ORDER BY total_reservations DESC;\n",
    "\"\"\").show()"
   ]
  },
  {
   "cell_type": "code",
   "execution_count": 24,
   "id": "c6399521-57cf-4124-935b-73207f82db6c",
   "metadata": {},
   "outputs": [
    {
     "name": "stdout",
     "output_type": "stream",
     "text": [
      "+---------+-------+---------+------------------+\n",
      "|site_name|channel|is_mobile|total_reservations|\n",
      "+---------+-------+---------+------------------+\n",
      "|        2|      9|        0|           1148494|\n",
      "|        2|      0|        0|            201327|\n",
      "|        2|      1|        0|            145065|\n",
      "|        2|      9|        1|            124315|\n",
      "|       34|      9|        0|            116700|\n",
      "|        2|      2|        0|            112445|\n",
      "|       11|      9|        0|            100628|\n",
      "|       37|      9|        0|             70155|\n",
      "|        2|      3|        0|             58060|\n",
      "|        2|      4|        0|             46644|\n",
      "|       24|      9|        0|             35868|\n",
      "|        2|      5|        0|             32540|\n",
      "|        2|      0|        1|             31018|\n",
      "|       24|      1|        0|             27347|\n",
      "|       11|      5|        0|             26750|\n",
      "|       13|      9|        0|             25773|\n",
      "|       11|      0|        0|             25427|\n",
      "|       37|      4|        0|             22892|\n",
      "|        2|      1|        1|             21652|\n",
      "|        8|      5|        0|             21095|\n",
      "+---------+-------+---------+------------------+\n",
      "only showing top 20 rows\n",
      "\n"
     ]
    }
   ],
   "source": [
    "# Análise por canal de venda e se a reserva foi em um app mobile\n",
    "\n",
    "spark.sql(\"\"\"\n",
    "    SELECT site_name, channel, is_mobile, COUNT(*) AS total_reservations\n",
    "    FROM expedia\n",
    "    WHERE is_booking = 1\n",
    "    GROUP BY 1,2,3\n",
    "    ORDER BY total_reservations DESC;\n",
    "\"\"\").show()"
   ]
  },
  {
   "cell_type": "code",
   "execution_count": 25,
   "id": "2ebf00d0-6852-4794-ad60-e21e192e2135",
   "metadata": {},
   "outputs": [
    {
     "name": "stdout",
     "output_type": "stream",
     "text": [
      "+-------------------+------------------------+------------------+\n",
      "|srch_destination_id|srch_destination_type_id|total_reservations|\n",
      "+-------------------+------------------------+------------------+\n",
      "|               8250|                       1|             97678|\n",
      "|               8267|                       1|             57680|\n",
      "|               8279|                       1|             30320|\n",
      "|               8253|                       1|             28297|\n",
      "|               8745|                       1|             25713|\n",
      "|              12206|                       6|             23258|\n",
      "|               8268|                       1|             23168|\n",
      "|               8230|                       1|             21976|\n",
      "|               8254|                       1|             19032|\n",
      "|               8791|                       1|             18342|\n",
      "|               8260|                       1|             18273|\n",
      "|               8291|                       1|             17621|\n",
      "|               8278|                       1|             16665|\n",
      "|               7635|                       3|             16664|\n",
      "|               8223|                       1|             16485|\n",
      "|               8746|                       1|             16246|\n",
      "|               8788|                       1|             15504|\n",
      "|               8220|                       1|             15245|\n",
      "|               8242|                       1|             14534|\n",
      "|               8819|                       1|             13643|\n",
      "+-------------------+------------------------+------------------+\n",
      "only showing top 20 rows\n",
      "\n"
     ]
    }
   ],
   "source": [
    "# Análise de reservas por tipo de destino\n",
    "\n",
    "spark.sql(\"\"\"\n",
    "    SELECT srch_destination_id, srch_destination_type_id, COUNT(*) AS total_reservations\n",
    "    FROM expedia\n",
    "    WHERE is_booking = 1\n",
    "    GROUP BY 1,2\n",
    "    ORDER BY total_reservations DESC;\n",
    "\"\"\").show()"
   ]
  },
  {
   "cell_type": "code",
   "execution_count": 26,
   "id": "de11613a-9c22-484a-b38f-21f82033b67f",
   "metadata": {},
   "outputs": [
    {
     "name": "stdout",
     "output_type": "stream",
     "text": [
      "root\n",
      " |-- date_time: timestamp (nullable = true)\n",
      " |-- site_name: integer (nullable = true)\n",
      " |-- posa_continent: integer (nullable = true)\n",
      " |-- user_location_country: integer (nullable = true)\n",
      " |-- user_location_region: integer (nullable = true)\n",
      " |-- user_location_city: integer (nullable = true)\n",
      " |-- orig_destination_distance: double (nullable = true)\n",
      " |-- user_id: integer (nullable = true)\n",
      " |-- is_mobile: integer (nullable = true)\n",
      " |-- is_package: integer (nullable = true)\n",
      " |-- channel: integer (nullable = true)\n",
      " |-- srch_ci: date (nullable = true)\n",
      " |-- srch_co: date (nullable = true)\n",
      " |-- srch_adults_cnt: integer (nullable = true)\n",
      " |-- srch_children_cnt: integer (nullable = true)\n",
      " |-- srch_rm_cnt: integer (nullable = true)\n",
      " |-- srch_destination_id: integer (nullable = true)\n",
      " |-- srch_destination_type_id: integer (nullable = true)\n",
      " |-- is_booking: integer (nullable = true)\n",
      " |-- cnt: integer (nullable = true)\n",
      " |-- hotel_continent: integer (nullable = true)\n",
      " |-- hotel_country: integer (nullable = true)\n",
      " |-- hotel_market: integer (nullable = true)\n",
      " |-- hotel_cluster: integer (nullable = true)\n",
      " |-- search_year: integer (nullable = true)\n",
      " |-- search_month: integer (nullable = true)\n",
      " |-- search_week: integer (nullable = true)\n",
      " |-- day_of_week_ci: integer (nullable = true)\n",
      " |-- stay_duration: integer (nullable = true)\n",
      " |-- is_solo_trip: integer (nullable = false)\n",
      " |-- trip_category: string (nullable = false)\n",
      "\n"
     ]
    }
   ],
   "source": [
    "df.printSchema()"
   ]
  },
  {
   "cell_type": "code",
   "execution_count": 27,
   "id": "0dc270bc-6cce-4bc4-ba64-fbd5e29a191e",
   "metadata": {},
   "outputs": [],
   "source": [
    "# Verificar colunas que são categóricas e removê-las\n",
    "\n",
    "columns_to_keep = [\n",
    "    col_name for col_name, dtype in df.dtypes \n",
    "    if dtype in ['int']\n",
    "]\n",
    "\n",
    "# Criar um novo DataFrame com apenas as colunas 'int' para machine learning\n",
    "df_int = df.select([col(c) for c in columns_to_keep])"
   ]
  },
  {
   "cell_type": "code",
   "execution_count": 28,
   "id": "e62fa87b-7505-499a-adf1-aeeef2d7d767",
   "metadata": {},
   "outputs": [],
   "source": [
    "# Filtrar apenas usuários que reservaram (is_booking == 1)\n",
    "df_booked = df_int.filter(df[\"is_booking\"] == 1)\n",
    "\n",
    "# Atualizar a temp view com as colunas novas\n",
    "df_booked.createOrReplaceTempView(\"expedia_final\")"
   ]
  },
  {
   "cell_type": "code",
   "execution_count": 29,
   "id": "ea88fd02-e4fe-4879-9580-cc2164d5a08c",
   "metadata": {},
   "outputs": [
    {
     "name": "stdout",
     "output_type": "stream",
     "text": [
      "root\n",
      " |-- site_name: integer (nullable = true)\n",
      " |-- posa_continent: integer (nullable = true)\n",
      " |-- user_location_country: integer (nullable = true)\n",
      " |-- user_location_region: integer (nullable = true)\n",
      " |-- user_location_city: integer (nullable = true)\n",
      " |-- user_id: integer (nullable = true)\n",
      " |-- is_mobile: integer (nullable = true)\n",
      " |-- is_package: integer (nullable = true)\n",
      " |-- channel: integer (nullable = true)\n",
      " |-- srch_adults_cnt: integer (nullable = true)\n",
      " |-- srch_children_cnt: integer (nullable = true)\n",
      " |-- srch_rm_cnt: integer (nullable = true)\n",
      " |-- srch_destination_id: integer (nullable = true)\n",
      " |-- srch_destination_type_id: integer (nullable = true)\n",
      " |-- is_booking: integer (nullable = true)\n",
      " |-- cnt: integer (nullable = true)\n",
      " |-- hotel_continent: integer (nullable = true)\n",
      " |-- hotel_country: integer (nullable = true)\n",
      " |-- hotel_market: integer (nullable = true)\n",
      " |-- hotel_cluster: integer (nullable = true)\n",
      " |-- search_year: integer (nullable = true)\n",
      " |-- search_month: integer (nullable = true)\n",
      " |-- search_week: integer (nullable = true)\n",
      " |-- day_of_week_ci: integer (nullable = true)\n",
      " |-- stay_duration: integer (nullable = true)\n",
      " |-- is_solo_trip: integer (nullable = false)\n",
      "\n"
     ]
    }
   ],
   "source": [
    "df_booked.printSchema()"
   ]
  },
  {
   "cell_type": "code",
   "execution_count": 30,
   "id": "85079121-34ba-4161-b0ef-e796ddbe376d",
   "metadata": {},
   "outputs": [
    {
     "name": "stdout",
     "output_type": "stream",
     "text": [
      "+---------+--------------+---------------------+--------------------+------------------+-------+---------+----------+-------+---------------+-----------------+-----------+-------------------+------------------------+----------+---+---------------+-------------+------------+-------------+-----------+------------+-----------+--------------+-------------+------------+------------------+\n",
      "|site_name|posa_continent|user_location_country|user_location_region|user_location_city|user_id|is_mobile|is_package|channel|srch_adults_cnt|srch_children_cnt|srch_rm_cnt|srch_destination_id|srch_destination_type_id|is_booking|cnt|hotel_continent|hotel_country|hotel_market|hotel_cluster|search_year|search_month|search_week|day_of_week_ci|stay_duration|is_solo_trip|total_reservations|\n",
      "+---------+--------------+---------------------+--------------------+------------------+-------+---------+----------+-------+---------------+-----------------+-----------+-------------------+------------------------+----------+---+---------------+-------------+------------+-------------+-----------+------------+-----------+--------------+-------------+------------+------------------+\n",
      "|        2|             3|                   66|                 220|              5444| 970504|        0|         0|      9|              1|                0|          1|              11853|                       1|         1|  1|              2|           50|         702|           32|       2013|           9|         37|             3|            1|           1|                12|\n",
      "|       13|             1|                   46|                 171|              8214| 468525|        0|         0|      5|              1|                0|          1|               8800|                       1|         1|  1|              6|          144|          15|           48|       2014|          11|         48|             2|            3|           1|                10|\n",
      "|        2|             3|                   66|                 346|             49389|1107062|        0|         0|      2|              1|                0|          1|              42770|                       6|         1|  1|              2|           50|         628|           50|       2013|           7|         27|             2|            2|           1|                 9|\n",
      "|       11|             3|                  215|                 715|             29722| 216282|        0|         0|      9|              1|                0|          1|              41556|                       1|         1|  1|              2|          198|         395|           28|       2013|          11|         48|             3|            1|           1|                 9|\n",
      "|        2|             3|                   66|                 346|             49389|1107062|        0|         0|      2|              1|                0|          1|              42770|                       6|         1|  1|              2|           50|         628|           50|       2014|           4|         17|             2|            2|           1|                 9|\n",
      "|       37|             1|                   69|                 986|             48402| 690640|        0|         0|      0|              1|                0|          1|              18483|                       6|         1|  1|              6|           70|         311|           18|       2014|           9|         37|             2|            2|           1|                 8|\n",
      "|       11|             3|                  205|                 354|             25315| 817791|        0|         0|      9|              1|                0|          1|               8270|                       1|         1|  1|              2|          198|         390|           47|       2014|           8|         34|             2|            3|           1|                 8|\n",
      "|        2|             3|                  205|                 155|             14703| 721080|        0|         0|      9|              1|                0|          1|              12603|                       5|         1|  1|              2|           50|         365|           21|       2014|          10|         44|             2|            1|           1|                 7|\n",
      "|        2|             3|                   66|                 174|             24524| 449455|        0|         0|      9|              1|                0|          1|               8267|                       1|         1|  1|              2|           50|         676|           17|       2014|           4|         16|             2|            3|           1|                 7|\n",
      "|        2|             3|                   66|                 174|              2868| 325795|        0|         0|      9|              1|                0|          1|               8254|                       1|         1|  1|              2|           50|         365|           40|       2014|           4|         15|             1|            5|           1|                 7|\n",
      "|       13|             1|                   46|                 347|              6258| 375430|        0|         0|      0|              1|                0|          1|               8743|                       1|         1|  1|              6|          144|          24|           32|       2014|          10|         42|             7|            7|           1|                 7|\n",
      "|       11|             3|                  205|                 155|             14703| 881310|        0|         0|      9|              1|                0|          1|               1901|                       1|         1|  1|              2|          198|         401|           10|       2014|          11|         45|             1|            2|           1|                 7|\n",
      "|       37|             1|                   69|                 928|             48733| 145844|        0|         0|      0|              1|                0|          1|               2197|                       3|         1|  1|              6|           70|        1905|           62|       2014|          10|         43|             2|            1|           1|                 7|\n",
      "|       37|             1|                   69|                 674|             24894| 381537|        0|         0|      9|              1|                0|          1|               2080|                       3|         1|  1|              6|           68|         275|           49|       2014|          12|         52|             5|            1|           1|                 7|\n",
      "|       13|             1|                   46|                 347|              6258| 375430|        0|         0|      9|              1|                0|          1|               8743|                       1|         1|  1|              6|          144|          24|           12|       2014|          12|         52|             4|            3|           1|                 6|\n",
      "|        2|             3|                   66|                 462|             27117| 547195|        0|         0|      9|              1|                0|          1|              11835|                       1|         1|  1|              2|           50|         633|           54|       2014|           3|         10|             1|            3|           1|                 6|\n",
      "|        2|             3|                   66|                 260|             19022| 790172|        0|         0|      9|              1|                0|          1|               7599|                       3|         1|  1|              2|           50|         946|           47|       2014|           9|         36|             7|            8|           1|                 6|\n",
      "|        2|             3|                   66|                 226|             19197| 310413|        1|         0|      9|              1|                0|          1|               8281|                       1|         1|  1|              2|           50|         663|           40|       2014|           8|         33|             2|            3|           1|                 6|\n",
      "|       13|             1|                   46|                 347|              3520|1108428|        0|         0|      9|              1|                0|          1|              20855|                       1|         1|  1|              6|          144|        1327|           81|       2014|           9|         36|             2|            4|           1|                 6|\n",
      "|       36|             2|                  115|                 957|             17195| 711915|        0|         0|      5|              1|                0|          1|              41924|                       6|         1|  1|              3|          106|         144|            5|       2014|           5|         21|             6|            2|           1|                 5|\n",
      "+---------+--------------+---------------------+--------------------+------------------+-------+---------+----------+-------+---------------+-----------------+-----------+-------------------+------------------------+----------+---+---------------+-------------+------------+-------------+-----------+------------+-----------+--------------+-------------+------------+------------------+\n",
      "only showing top 20 rows\n",
      "\n"
     ]
    }
   ],
   "source": [
    "# Verificar relação de todas as colunas com is_solo_trip\n",
    "spark.sql(\"\"\"\n",
    "    SELECT \n",
    "        site_name,\n",
    "        posa_continent,\n",
    "        user_location_country,\n",
    "        user_location_region,\n",
    "        user_location_city,\n",
    "        user_id,\n",
    "        is_mobile,\n",
    "        is_package,\n",
    "        channel,\n",
    "        srch_adults_cnt,\n",
    "        srch_children_cnt,\n",
    "        srch_rm_cnt,\n",
    "        srch_destination_id,\n",
    "        srch_destination_type_id,\n",
    "        is_booking,\n",
    "        cnt,\n",
    "        hotel_continent,\n",
    "        hotel_country,\n",
    "        hotel_market,\n",
    "        hotel_cluster,\n",
    "        search_year,\n",
    "        search_month,\n",
    "        search_week,\n",
    "        day_of_week_ci,\n",
    "        stay_duration,\n",
    "        is_solo_trip,\n",
    "        COUNT(*) AS total_reservations\n",
    "    FROM expedia_final\n",
    "    WHERE is_solo_trip=1\n",
    "    GROUP BY 1, 2, 3, 4, 5, 6, 7, 8, 9, 10, 11, 12, 13, 14, 15, 16, 17, 18, 19, 20, 21, 22, 23, 24, 25, 26\n",
    "    ORDER BY total_reservations DESC\n",
    "\"\"\").show()"
   ]
  },
  {
   "cell_type": "code",
   "execution_count": 31,
   "id": "44d1428c-e1bb-4479-958d-8b21dab79668",
   "metadata": {},
   "outputs": [
    {
     "name": "stdout",
     "output_type": "stream",
     "text": [
      "1\n"
     ]
    }
   ],
   "source": [
    "# Verificar valores nulos em todas as colunas\n",
    "nulos = df_booked.select([\n",
    "    sum(when(col(c).isNull(), 1).otherwise(0)).alias(f\"{c}_nulls\") for c in df_booked.columns\n",
    "])\n",
    "\n",
    "print(nulos.count())"
   ]
  },
  {
   "cell_type": "code",
   "execution_count": 32,
   "id": "f0ee12f1-cb42-4ce4-9c74-ed81dc30b3de",
   "metadata": {},
   "outputs": [],
   "source": [
    "# Machine Learning\n",
    "\n",
    "from pyspark.ml.feature import VectorAssembler\n",
    "from pyspark.ml.classification import DecisionTreeClassifier\n",
    "from pyspark.ml.evaluation import MulticlassClassificationEvaluator"
   ]
  },
  {
   "cell_type": "code",
   "execution_count": 33,
   "id": "daceefc3-c9be-467f-9137-dfcee68bad8e",
   "metadata": {},
   "outputs": [
    {
     "name": "stdout",
     "output_type": "stream",
     "text": [
      "Acurácia da árvore de decisão: 0.72\n"
     ]
    }
   ],
   "source": [
    "# Obter todas as colunas exceto a target e associados\n",
    "feature_cols = [field.name for field in df_booked.schema.fields if field.name not in [\"is_solo_trip\", \"srch_adults_cnt\", \"srch_children_cnt\"]]\n",
    "\n",
    "assembler = VectorAssembler(inputCols=feature_cols, outputCol=\"features\")\n",
    "df_features = assembler.transform(df_booked).select(\"features\", \"is_solo_trip\")\n",
    "\n",
    "# Separar treino e teste\n",
    "train_data, test_data = df_features.randomSplit([0.7, 0.3], seed=42)\n",
    "\n",
    "# Treinar modelo\n",
    "dt = DecisionTreeClassifier(labelCol=\"is_solo_trip\", featuresCol=\"features\", maxDepth=5)\n",
    "model = dt.fit(train_data)\n",
    "\n",
    "# Fazer previsões\n",
    "predictions = model.transform(test_data)\n",
    "\n",
    "# Avaliar\n",
    "evaluator = MulticlassClassificationEvaluator(\n",
    "    labelCol=\"is_solo_trip\", predictionCol=\"prediction\", metricName=\"accuracy\"\n",
    ")\n",
    "accuracy = evaluator.evaluate(predictions)\n",
    "print(f\"Acurácia da árvore de decisão: {accuracy:.2f}\")\n"
   ]
  },
  {
   "cell_type": "code",
   "execution_count": 34,
   "id": "37d11291-4ca7-4871-8061-4e67789c57bf",
   "metadata": {},
   "outputs": [
    {
     "name": "stdout",
     "output_type": "stream",
     "text": [
      "DecisionTreeClassificationModel: uid=DecisionTreeClassifier_842d25127b18, depth=5, numNodes=17, numClasses=2, numFeatures=23\n",
      "  If (feature 9 <= 1.5)\n",
      "   If (feature 21 <= 5.5)\n",
      "    If (feature 22 <= 2.5)\n",
      "     If (feature 7 <= 0.5)\n",
      "      Predict: 0.0\n",
      "     Else (feature 7 > 0.5)\n",
      "      Predict: 1.0\n",
      "    Else (feature 22 > 2.5)\n",
      "     Predict: 0.0\n",
      "   Else (feature 21 > 5.5)\n",
      "    Predict: 0.0\n",
      "  Else (feature 9 > 1.5)\n",
      "   If (feature 9 <= 4.5)\n",
      "    Predict: 0.0\n",
      "   Else (feature 9 > 4.5)\n",
      "    If (feature 9 <= 5.5)\n",
      "     Predict: 0.0\n",
      "    Else (feature 9 > 5.5)\n",
      "     If (feature 0 <= 13.5)\n",
      "      If (feature 9 <= 7.5)\n",
      "       Predict: 0.0\n",
      "      Else (feature 9 > 7.5)\n",
      "       Predict: 1.0\n",
      "     Else (feature 0 > 13.5)\n",
      "      Predict: 0.0\n",
      "\n"
     ]
    }
   ],
   "source": [
    "print(model.toDebugString)"
   ]
  },
  {
   "cell_type": "code",
   "execution_count": 35,
   "id": "5d9bab7b-faf4-4194-a2ef-499c61fa2039",
   "metadata": {},
   "outputs": [
    {
     "name": "stdout",
     "output_type": "stream",
     "text": [
      "feature 0: site_name\n",
      "feature 1: posa_continent\n",
      "feature 2: user_location_country\n",
      "feature 3: user_location_region\n",
      "feature 4: user_location_city\n",
      "feature 5: user_id\n",
      "feature 6: is_mobile\n",
      "feature 7: is_package\n",
      "feature 8: channel\n",
      "feature 9: srch_rm_cnt\n",
      "feature 10: srch_destination_id\n",
      "feature 11: srch_destination_type_id\n",
      "feature 12: is_booking\n",
      "feature 13: cnt\n",
      "feature 14: hotel_continent\n",
      "feature 15: hotel_country\n",
      "feature 16: hotel_market\n",
      "feature 17: hotel_cluster\n",
      "feature 18: search_year\n",
      "feature 19: search_month\n",
      "feature 20: search_week\n",
      "feature 21: day_of_week_ci\n",
      "feature 22: stay_duration\n"
     ]
    }
   ],
   "source": [
    "for idx, name in enumerate(feature_cols):\n",
    "    print(f\"feature {idx}: {name}\")"
   ]
  },
  {
   "cell_type": "code",
   "execution_count": 36,
   "id": "ad52297b-b3c5-4099-9777-def732b62373",
   "metadata": {},
   "outputs": [],
   "source": [
    "from pyspark.ml.classification import DecisionTreeClassifier\n",
    "from pyspark.ml.tuning import ParamGridBuilder, CrossValidator\n",
    "from pyspark.ml.evaluation import MulticlassClassificationEvaluator, BinaryClassificationEvaluator\n",
    "from pyspark.ml.feature import VectorAssembler\n",
    "from pyspark.sql.functions import col\n",
    "\n",
    "# Remoção de features relacionadas\n",
    "excluded_cols = [\"is_solo_trip\", \"srch_adults_cnt\", \"srch_children_cnt\"]\n",
    "feature_cols = [field.name for field in df_booked.schema.fields if field.name not in excluded_cols]\n",
    "\n",
    "# Preparação dos dados\n",
    "assembler = VectorAssembler(inputCols=feature_cols, outputCol=\"features\")\n",
    "df_features = assembler.transform(df_booked).select(\"features\", \"is_solo_trip\")\n",
    "\n",
    "# Split treino-teste\n",
    "train_data, test_data = df_features.randomSplit([0.7, 0.3], seed=42)\n",
    "\n",
    "# Modelo e Grid Search\n",
    "dt = DecisionTreeClassifier(labelCol=\"is_solo_trip\", featuresCol=\"features\")\n",
    "\n",
    "param_grid = ParamGridBuilder() \\\n",
    "    .addGrid(dt.maxDepth, [3, 5, 7]) \\\n",
    "    .addGrid(dt.minInstancesPerNode, [1, 5, 10]) \\\n",
    "    .addGrid(dt.impurity, [\"gini\", \"entropy\"]) \\\n",
    "    .build()\n",
    "\n",
    "evaluator = MulticlassClassificationEvaluator(\n",
    "    labelCol=\"is_solo_trip\", \n",
    "    predictionCol=\"prediction\", \n",
    "    metricName=\"accuracy\"  # Ou \"f1\" para dados desbalanceados\n",
    ")\n",
    "\n",
    "cv = CrossValidator(\n",
    "    estimator=dt,\n",
    "    estimatorParamMaps=param_grid,\n",
    "    evaluator=evaluator,\n",
    "    numFolds=3,\n",
    "    seed=42\n",
    ")"
   ]
  },
  {
   "cell_type": "code",
   "execution_count": 37,
   "id": "ffff07a6-ef92-4608-be79-9157764d9f40",
   "metadata": {},
   "outputs": [
    {
     "name": "stdout",
     "output_type": "stream",
     "text": [
      "\n",
      "Acurácia do melhor modelo: 0.7194\n",
      "AUC-ROC: 0.6138\n",
      "\n",
      "Matriz de Confusão:\n",
      "+------------+----------+------+\n",
      "|is_solo_trip|prediction| count|\n",
      "+------------+----------+------+\n",
      "|           1|       0.0|244499|\n",
      "|           0|       0.0|631892|\n",
      "|           1|       1.0| 16308|\n",
      "|           0|       1.0|  8301|\n",
      "+------------+----------+------+\n",
      "\n",
      "\n",
      "Melhores hiperparâmetros:\n",
      "maxDepth: 7\n",
      "minInstancesPerNode: 5\n",
      "impurity: gini\n"
     ]
    }
   ],
   "source": [
    "# Treinamento\n",
    "cv_model = cv.fit(train_data)\n",
    "best_model = cv_model.bestModel\n",
    "predictions = best_model.transform(test_data)\n",
    "\n",
    "# Avaliação\n",
    "accuracy = evaluator.evaluate(predictions)\n",
    "print(f\"\\nAcurácia do melhor modelo: {accuracy:.4f}\")\n",
    "\n",
    "# Métricas adicionais\n",
    "evaluator_auc = BinaryClassificationEvaluator(\n",
    "    labelCol=\"is_solo_trip\", \n",
    "    metricName=\"areaUnderROC\"\n",
    ")\n",
    "auc = evaluator_auc.evaluate(predictions)\n",
    "print(f\"AUC-ROC: {auc:.4f}\")\n",
    "\n",
    "print(\"\\nMatriz de Confusão:\")\n",
    "predictions.groupBy(\"is_solo_trip\", \"prediction\").count().show()\n",
    "\n",
    "# Parâmetros do melhor modelo\n",
    "print(\"\\nMelhores hiperparâmetros:\")\n",
    "print(f\"maxDepth: {best_model.getMaxDepth()}\")\n",
    "print(f\"minInstancesPerNode: {best_model.getMinInstancesPerNode()}\")\n",
    "print(f\"impurity: {best_model.getImpurity()}\")"
   ]
  }
 ],
 "metadata": {
  "kernelspec": {
   "display_name": "Python 3 (ipykernel)",
   "language": "python",
   "name": "python3"
  },
  "language_info": {
   "codemirror_mode": {
    "name": "ipython",
    "version": 3
   },
   "file_extension": ".py",
   "mimetype": "text/x-python",
   "name": "python",
   "nbconvert_exporter": "python",
   "pygments_lexer": "ipython3",
   "version": "3.11.6"
  }
 },
 "nbformat": 4,
 "nbformat_minor": 5
}
